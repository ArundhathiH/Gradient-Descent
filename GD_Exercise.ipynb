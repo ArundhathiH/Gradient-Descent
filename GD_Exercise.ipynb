{
 "cells": [
  {
   "cell_type": "code",
   "execution_count": 63,
   "id": "55b4b8f2",
   "metadata": {},
   "outputs": [],
   "source": [
    "import pandas as pd\n",
    "import numpy as np\n",
    "import matplotlib.pyplot as plt\n",
    "import math\n",
    "\n",
    "from sklearn.linear_model import LinearRegression\n",
    "import warnings\n",
    "warnings.filterwarnings('ignore')"
   ]
  },
  {
   "cell_type": "code",
   "execution_count": 2,
   "id": "a85e2148",
   "metadata": {},
   "outputs": [
    {
     "data": {
      "text/html": [
       "<div>\n",
       "<style scoped>\n",
       "    .dataframe tbody tr th:only-of-type {\n",
       "        vertical-align: middle;\n",
       "    }\n",
       "\n",
       "    .dataframe tbody tr th {\n",
       "        vertical-align: top;\n",
       "    }\n",
       "\n",
       "    .dataframe thead th {\n",
       "        text-align: right;\n",
       "    }\n",
       "</style>\n",
       "<table border=\"1\" class=\"dataframe\">\n",
       "  <thead>\n",
       "    <tr style=\"text-align: right;\">\n",
       "      <th></th>\n",
       "      <th>name</th>\n",
       "      <th>math</th>\n",
       "      <th>cs</th>\n",
       "    </tr>\n",
       "  </thead>\n",
       "  <tbody>\n",
       "    <tr>\n",
       "      <th>0</th>\n",
       "      <td>david</td>\n",
       "      <td>92</td>\n",
       "      <td>98</td>\n",
       "    </tr>\n",
       "    <tr>\n",
       "      <th>1</th>\n",
       "      <td>laura</td>\n",
       "      <td>56</td>\n",
       "      <td>68</td>\n",
       "    </tr>\n",
       "    <tr>\n",
       "      <th>2</th>\n",
       "      <td>sanjay</td>\n",
       "      <td>88</td>\n",
       "      <td>81</td>\n",
       "    </tr>\n",
       "    <tr>\n",
       "      <th>3</th>\n",
       "      <td>wei</td>\n",
       "      <td>70</td>\n",
       "      <td>80</td>\n",
       "    </tr>\n",
       "    <tr>\n",
       "      <th>4</th>\n",
       "      <td>jeff</td>\n",
       "      <td>80</td>\n",
       "      <td>83</td>\n",
       "    </tr>\n",
       "    <tr>\n",
       "      <th>5</th>\n",
       "      <td>aamir</td>\n",
       "      <td>49</td>\n",
       "      <td>52</td>\n",
       "    </tr>\n",
       "    <tr>\n",
       "      <th>6</th>\n",
       "      <td>venkat</td>\n",
       "      <td>65</td>\n",
       "      <td>66</td>\n",
       "    </tr>\n",
       "    <tr>\n",
       "      <th>7</th>\n",
       "      <td>virat</td>\n",
       "      <td>35</td>\n",
       "      <td>30</td>\n",
       "    </tr>\n",
       "    <tr>\n",
       "      <th>8</th>\n",
       "      <td>arthur</td>\n",
       "      <td>66</td>\n",
       "      <td>68</td>\n",
       "    </tr>\n",
       "    <tr>\n",
       "      <th>9</th>\n",
       "      <td>paul</td>\n",
       "      <td>67</td>\n",
       "      <td>73</td>\n",
       "    </tr>\n",
       "  </tbody>\n",
       "</table>\n",
       "</div>"
      ],
      "text/plain": [
       "     name  math  cs\n",
       "0   david    92  98\n",
       "1   laura    56  68\n",
       "2  sanjay    88  81\n",
       "3     wei    70  80\n",
       "4    jeff    80  83\n",
       "5   aamir    49  52\n",
       "6  venkat    65  66\n",
       "7   virat    35  30\n",
       "8  arthur    66  68\n",
       "9    paul    67  73"
      ]
     },
     "execution_count": 2,
     "metadata": {},
     "output_type": "execute_result"
    }
   ],
   "source": [
    "scores = pd.read_csv('https://raw.githubusercontent.com/codebasics/py/master/ML/3_gradient_descent/Exercise/test_scores.csv')\n",
    "scores"
   ]
  },
  {
   "cell_type": "code",
   "execution_count": 43,
   "id": "f83db9a3",
   "metadata": {},
   "outputs": [],
   "source": [
    "x=np.array(scores['math'])\n",
    "y=np.array(scores['cs'])"
   ]
  },
  {
   "cell_type": "code",
   "execution_count": 14,
   "id": "5e11c899",
   "metadata": {},
   "outputs": [
    {
     "data": {
      "image/png": "[encoded data removed]",
      "text/plain": [
       "<Figure size 432x288 with 1 Axes>"
      ]
     },
     "metadata": {
      "needs_background": "light"
     },
     "output_type": "display_data"
    }
   ],
   "source": [
    "plt.scatter(x,y)\n",
    "plt.show()"
   ]
  },
  {
   "cell_type": "code",
   "execution_count": 44,
   "id": "64a7815a",
   "metadata": {},
   "outputs": [],
   "source": [
    "def grad_des(x,y):\n",
    "    m=b=0\n",
    "    iterations=100\n",
    "    lr=0.01\n",
    "    n=len(x)\n",
    "    \n",
    "    for i in range(iterations):\n",
    "        y_pred=m*x+b\n",
    "        cf=(1/n)*sum([j**2 for j in (y-y_pred)])\n",
    "        \n",
    "        m_der=-(2/n)*sum(x*(y-y_pred))\n",
    "        b_der=-(2/n)*sum(y-y_pred)\n",
    "        \n",
    "        m=m-lr*m_der\n",
    "        b=b-lr*b_der\n",
    "        \n",
    "        print(f'm= {m}, b= {b}, cf= {cf}, iteration= {i+1}')"
   ]
  },
  {
   "cell_type": "code",
   "execution_count": 45,
   "id": "4f762e9b",
   "metadata": {},
   "outputs": [
    {
     "name": "stdout",
     "output_type": "stream",
     "text": [
      "m= 98.918, b= 1.3980000000000001, cf= 5199.1, iteration= 1\n",
      "m= -9169.587968000002, b= -129.386408, cf= 45366108.340850405, iteration= 2\n",
      "m= 859278.7790833284, b= 12125.168845408005, cf= 398290329619.79004, iteration= 3\n",
      "m= -80513336.3321037, b= -1136112.3853868274, cf= 3496779946139640.5, iteration= 4\n",
      "m= 7544007292.656351, b= 106452428.60001147, cf= 3.0699891720627802e+19, iteration= 5\n",
      "m= -706864823521.7386, b= -9974470361.562872, cf= 2.6952892837845242e+23, iteration= 6\n",
      "m= 66232422560018.44, b= 934596423272.1094, cf= 2.3663224578744982e+27, iteration= 7\n",
      "m= -6205901966243919.0, b= -87570612045376.58, cf= 2.077506859218773e+31, iteration= 8\n",
      "m= 5.814858905354231e+17, b= 8205265827097408.0, cf= 1.8239419296970382e+35, iteration= 9\n",
      "m= -5.448456046050343e+19, b= -7.688239892447695e+17, cf= 1.6013252366146002e+39, iteration= 10\n",
      "m= 5.105140772789593e+21, b= 7.203792526577272e+19, cf= 1.4058794699920812e+43, iteration= 11\n",
      "m= -4.783458302630841e+23, b= -6.74987090568644e+21, cf= 1.2342883500192473e+47, iteration= 12\n",
      "m= 4.482045520657572e+25, b= 6.324551557439078e+23, cf= 1.0836403571650532e+51, iteration= 13\n",
      "m= -4.1996252038400877e+27, b= -5.926032210335615e+25, cf= 9.513793301690755e+54, iteration= 14\n",
      "m= 3.9350006088606955e+29, b= 5.552624156669068e+27, cf= 8.352610936721472e+58, iteration= 15\n",
      "m= -3.6870504009680314e+31, b= -5.202745096702534e+29, cf= 7.3331537955360665e+62, iteration= 16\n",
      "m= 3.4547239023717715e+33, b= 4.874912433745606e+31, cf= 6.43812395864958e+66, iteration= 17\n",
      "m= -3.237036640043024e+35, b= -4.567736991717981e+33, cf= 5.652334761091385e+70, iteration= 18\n",
      "m= 3.0330661740543987e+37, b= 4.279917128578644e+35, cf= 4.962453108489603e+74, iteration= 19\n",
      "m= -2.8419481887825394e+39, b= -4.0102332206766067e+37, cf= 4.356773244124558e+78, iteration= 20\n",
      "m= 2.662872830409765e+41, b= 3.757542494650841e+39, cf= 3.8250181282815046e+82, iteration= 21\n",
      "m= -2.4950812752051536e+43, b= -3.520774184979868e+41, cf= 3.3581650597521543e+86, iteration= 22\n",
      "m= 2.3378625140433015e+45, b= 3.298924996661283e+43, cf= 2.948292580669893e+90, iteration= 23\n",
      "m= -2.190550339535319e+47, b= -3.09105485379457e+45, cf= 2.5884460669942973e+94, iteration= 24\n",
      "m= 2.052520523005154e+49, b= 2.8962829160519996e+47, cf= 2.2725197240146022e+98, iteration= 25\n",
      "m= -1.923188169348813e+51, b= -2.7137838461575763e+49, cf= 1.9951529845983013e+102, iteration= 26\n",
      "m= 1.8020052385678148e+53, b= 2.5427843125576694e+51, cf= 1.7516395522936851e+106, iteration= 27\n",
      "m= -1.6884582234744865e+55, b= -2.382559712463536e+53, cf= 1.5378475459501542e+110, iteration= 28\n",
      "m= 1.5820659737284843e+57, b= 2.2324311013797718e+55, cf= 1.35014939088815e+114, iteration= 29\n",
      "m= -1.4823776569839887e+59, b= -2.0917623161077335e+57, cf= 1.1853602670278786e+118, iteration= 30\n",
      "m= 1.3889708485080324e+61, b= 1.9599572790327534e+59, cf= 1.0406840695784935e+122, iteration= 31\n",
      "m= -1.3014497411748039e+63, b= -1.8364574722722103e+61, cf= 9.136659653608772e+125, iteration= 32\n",
      "m= 1.219443468250852e+65, b= 1.7207395709812706e+63, cf= 8.0215073975038e+129, iteration= 33\n",
      "m= -1.1426045318640812e+67, b= -1.6123132257875217e+65, cf= 7.042462274797934e+133, iteration= 34\n",
      "m= 1.0706073304972364e+69, b= 1.510718984957695e+67, cf= 6.182912068046699e+137, iteration= 35\n",
      "m= -1.0031467792662015e+71, b= -1.4155263474917225e+69, cf= 5.428272122663853e+141, iteration= 36\n",
      "m= 9.399370171366024e+72, b= 1.3263319388942262e+71, cf= 4.765737877782639e+145, iteration= 37\n",
      "m= -8.807101956006055e+74, b= -1.2427578018933375e+73, cf= 4.184067601346858e+149, iteration= 38\n",
      "m= 8.252153436809802e+76, b= 1.164449794863854e+75, cf= 3.6733916429297385e+153, iteration= 39\n",
      "m= -7.732173044529361e+78, b= -1.0910760911681242e+77, cf= 3.225044967725275e+157, iteration= 40\n",
      "m= 7.244957385772907e+80, b= 1.0223257730556751e+79, cf= 2.831420130186499e+161, iteration= 41\n",
      "m= -6.788441906224863e+82, b= -9.579075141633148e+80, cf= 2.485838192600437e+165, iteration= 42\n",
      "m= 6.360692142190374e+84, b= 8.975483450328412e+82, cf= 2.1824353983751556e+169, iteration= 43\n",
      "m= -5.959895523392907e+86, b= -8.409924964153124e+84, cf= 1.9160636771367335e+173, iteration= 44\n",
      "m= 5.584353692289688e+88, b= 7.880003154604224e+86, cf= 1.68220329342901e+177, iteration= 45\n",
      "m= -5.232475307358434e+90, b= -7.3834725019839e+88, cf= 1.4768861568589032e+181, iteration= 46\n",
      "m= 4.9027692998596465e+92, b= 6.918228980111427e+90, cf= 1.2966284924310824e+185, iteration= 47\n",
      "m= -4.5938385555002596e+94, b= -6.482301140607395e+92, cf= 1.1383717286373908e+189, iteration= 48\n",
      "m= 4.304373994225029e+96, b= 6.073841758970393e+94, cf= 9.994306003033937e+192, iteration= 49\n",
      "m= -4.033149023049007e+98, b= -5.69112000704673e+96, cf= 8.774475856128477e+196, iteration= 50\n",
      "m= 3.779014338425252e+100, b= 5.332514118724415e+98, cf= 7.703529042077515e+200, iteration= 51\n",
      "m= -3.540893056123038e+102, b= -4.996504517772638e+100, cf= 6.763293976207482e+204, iteration= 52\n",
      "m= 3.317776147979637e+104, b= 4.681667378706207e+102, cf= 5.937816961389488e+208, iteration= 53\n",
      "m= -3.108718166189119e+106, b= -4.386668593389475e+104, cf= 5.213091489294607e+212, iteration= 54\n",
      "m= 2.912833237010043e+108, b= 4.110258117813446e+106, cf= 4.5768205811107413e+216, iteration= 55\n",
      "m= -2.7292913069155488e+110, b= -3.8512646750908465e+108, cf= 4.0182081351718755e+220, iteration= 56\n",
      "m= 2.557314625279079e+112, b= 3.608590792223282e+110, cf= 3.5277757411331614e+224, iteration= 57\n",
      "m= -2.3961744486912823e+114, b= -3.381208149609062e+112, cf= 3.097201852435974e+228, iteration= 58\n",
      "m= 2.2451879529427813e+116, b= 3.1681532235853846e+114, cf= 2.7191805881775087e+232, iteration= 59\n",
      "m= -2.103715339587469e+118, b= -2.968523203540419e+116, cf= 2.387297768566809e+236, iteration= 60\n",
      "m= 1.9711571248255345e+120, b= 2.7814721662941635e+118, cf= 2.095922080564669e+240, iteration= 61\n",
      "m= -1.8469515992179773e+122, b= -2.606207491537232e+120, cf= 1.840109527030539e+244, iteration= 62\n",
      "m= 1.7305724474682703e+124, b= 2.441986503138153e+122, cf= 1.615519538090995e+248, iteration= 63\n",
      "m= -1.621526518185095e+126, b= -2.288113322086855e+124, cf= 1.4183413213263731e+252, iteration= 64\n",
      "m= 1.5193517341756278e+128, b= 2.143935917738836e+126, cf= 1.2452292011020746e+256, iteration= 65\n",
      "m= -1.4236151344143378e+130, b= -2.0088433448647983e+128, cf= 1.0932458498968773e+260, iteration= 66\n",
      "m= 1.3339110393902257e+132, b= 1.8822631547978803e+130, cf= 9.598124483901925e+263, iteration= 67\n",
      "m= -1.2498593320582444e+134, b= -1.7636589697083224e+132, cf= 8.426649286358364e+267, iteration= 68\n",
      "m= 1.1711038471105164e+136, b= 1.6525282097266731e+134, cf= 7.398155578663304e+271, iteration= 69\n",
      "m= -1.0973108617419513e+138, b= -1.5483999632843285e+136, cf= 6.49519211090368e+275, iteration= 70\n",
      "m= 1.028167681514955e+140, b= 1.4508329916470608e+138, cf= 5.702437602044571e+279, iteration= 71\n",
      "m= -9.633813153308937e+141, b= -1.359413859185839e+140, cf= 5.006440771878509e+283, iteration= 72\n",
      "m= 9.026772338935685e+143, b= 1.2737551814620527e+142, cf= 4.395392102728275e+287, iteration= 73\n",
      "m= -8.457982064037382e+145, b= -1.1934939837034794e+144, cf= 3.8589234582070315e+291, iteration= 74\n",
      "m= 7.925032105552447e+147, b= 1.1182901627151002e+146, cf= 3.387932159012003e+295, iteration= 75\n",
      "m= -7.425664112138921e+149, b= -1.0478250457071987e+148, cf= 2.9744265307093664e+299, iteration= 76\n",
      "m= 6.957762034512808e+151, b= 9.818000399338293e+149, cf= 2.6113903027998675e+303, iteration= 77\n",
      "m= -6.519343158784951e+153, b= -9.199353674195595e+151, cf= inf, iteration= 78\n",
      "m= 6.1085497048006155e+155, b= 8.619688794129578e+153, cf= inf, iteration= 79\n",
      "m= -5.723640953880111e+157, b= -8.076549455431154e+155, cf= inf, iteration= 80\n",
      "m= 5.362985872602134e+159, b= 7.567634129720602e+157, cf= inf, iteration= 81\n",
      "m= -5.02505620137341e+161, b= -7.090786311325189e+159, cf= inf, iteration= 82\n",
      "m= 4.708419978497804e+163, b= 6.643985379183891e+161, cf= inf, iteration= 83\n",
      "m= -4.4117354723034025e+165, b= -6.225338034557065e+163, cf= inf, iteration= 84\n",
      "m= 4.133745495615246e+167, b= 5.8330702782586885e+165, cf= inf, iteration= 85\n",
      "m= -3.873272078481539e+169, b= -5.465519893415034e+167, cf= inf, iteration= 86\n",
      "m= 3.6292114765792663e+171, b= 5.121129401895868e+169, cf= inf, iteration= 87\n",
      "m= -3.400529494147551e+173, b= -4.79843946457132e+171, cf= inf, iteration= 88\n",
      "m= 3.186257101629892e+175, b= 4.4960826974283295e+173, cf= inf, iteration= 89\n",
      "m= -2.9854863294552597e+177, b= -4.212777877342739e+175, cf= inf, iteration= 90\n",
      "m= 2.797366420558101e+179, b= 3.9473245129542683e+177, cf= inf, iteration= 91\n",
      "m= -2.6211002253337594e+181, b= -3.6985977576386705e+179, cf= inf, iteration= 92\n",
      "m= 2.4559408237530864e+183, b= 3.465543643021044e+181, cf= inf, iteration= 93\n",
      "m= -2.3011883603225987e+185, b= -3.247174612832517e+183, cf= inf, iteration= 94\n",
      "m= 2.156187078478485e+187, b= 3.042565338185233e+185, cf= inf, iteration= 95\n",
      "m= -2.020322541847827e+189, b= -2.8508487965330416e+187, cf= inf, iteration= 96\n",
      "m= 1.8930190306022614e+191, b= 2.6712125977026736e+189, cf= inf, iteration= 97\n",
      "m= -1.7737371018712514e+193, b= -2.5028955414271348e+191, cf= inf, iteration= 98\n",
      "m= 1.6619713038773232e+195, b= 2.3451843917940065e+193, cf= inf, iteration= 99\n",
      "m= -1.55724803410702e+197, b= -2.1974108549405229e+195, cf= inf, iteration= 100\n"
     ]
    },
    {
     "name": "stderr",
     "output_type": "stream",
     "text": [
      "C:\\Users\\hp\\AppData\\Local\\Temp\\ipykernel_19532\\608858777.py:9: RuntimeWarning: overflow encountered in double_scalars\n",
      "  cf=(1/n)*sum([j**2 for j in (y-y_pred)])\n"
     ]
    }
   ],
   "source": [
    "grad_des(x,y)"
   ]
  },
  {
   "cell_type": "markdown",
   "id": "fdea9f7a",
   "metadata": {},
   "source": [
    "# Check for m & b using Linear Regression"
   ]
  },
  {
   "cell_type": "code",
   "execution_count": 36,
   "id": "5fa14074",
   "metadata": {},
   "outputs": [],
   "source": [
    "x=scores[['math']]\n",
    "y=scores[['cs']]"
   ]
  },
  {
   "cell_type": "code",
   "execution_count": 37,
   "id": "b169fd79",
   "metadata": {},
   "outputs": [],
   "source": [
    "model=LinearRegression().fit(x,y)"
   ]
  },
  {
   "cell_type": "code",
   "execution_count": 38,
   "id": "72738166",
   "metadata": {},
   "outputs": [
    {
     "data": {
      "text/plain": [
       "array([[95.54695319],\n",
       "       [58.90844863],\n",
       "       [91.47600824],\n",
       "       [73.15675596],\n",
       "       [83.33411834],\n",
       "       [51.78429497],\n",
       "       [68.06807477],\n",
       "       [37.53598764],\n",
       "       [69.08581101],\n",
       "       [70.10354725]])"
      ]
     },
     "execution_count": 38,
     "metadata": {},
     "output_type": "execute_result"
    }
   ],
   "source": [
    "y_pred = model.predict(x)\n",
    "y_pred"
   ]
  },
  {
   "cell_type": "code",
   "execution_count": 39,
   "id": "3126f6ef",
   "metadata": {},
   "outputs": [
    {
     "data": {
      "text/plain": [
       "array([[1.01773624]])"
      ]
     },
     "execution_count": 39,
     "metadata": {},
     "output_type": "execute_result"
    }
   ],
   "source": [
    "model.coef_"
   ]
  },
  {
   "cell_type": "code",
   "execution_count": 40,
   "id": "380b482e",
   "metadata": {},
   "outputs": [
    {
     "data": {
      "text/plain": [
       "array([1.91521931])"
      ]
     },
     "execution_count": 40,
     "metadata": {},
     "output_type": "execute_result"
    }
   ],
   "source": [
    "model.intercept_"
   ]
  },
  {
   "cell_type": "markdown",
   "id": "a0d13f4e",
   "metadata": {},
   "source": [
    "### By gradient Descent method, m&b are overshooting the global minima.\n",
    "### Using math.isclose stop the CF by a threshold value so that we get the global minima"
   ]
  },
  {
   "cell_type": "code",
   "execution_count": 98,
   "id": "c2ae6f96",
   "metadata": {},
   "outputs": [],
   "source": [
    "def grad_des(x,y):\n",
    "    \n",
    "    global m,b,cf,iterations\n",
    "    \n",
    "    m=b=0\n",
    "    iterations=10000\n",
    "    lr=0.001\n",
    "    n=len(x)\n",
    "    prev_cf=0\n",
    "    \n",
    "    for i in range(iterations):\n",
    "        y_pred=m*x+b\n",
    "        cf=(1/n)*sum([j**2 for j in (y-y_pred)])\n",
    "        \n",
    "        if math.isclose(cf,prev_cf, rel_tol=1e-30):\n",
    "            break\n",
    "        prev_cf=cf\n",
    "        \n",
    "        m_der=-(2/n)*sum(x*(y-y_pred))\n",
    "        b_der=-(2/n)*sum(y-y_pred)\n",
    "        \n",
    "        m=m-lr*m_der\n",
    "        b=b-lr*b_der\n",
    "        \n",
    "#         if math.isclose(cf,prev_cf, rel_tol=1e-20):\n",
    "#             break\n",
    "#         prev_cf=cf\n",
    "        \n",
    "        print(f'm= {m}, b= {b}, cf= {cf}, iteration= {i+1}')"
   ]
  },
  {
   "cell_type": "code",
   "execution_count": 99,
   "id": "5d00307f",
   "metadata": {},
   "outputs": [],
   "source": [
    "x=np.array(scores['math'])\n",
    "y=np.array(scores['cs'])"
   ]
  },
  {
   "cell_type": "code",
   "execution_count": 100,
   "id": "a488c448",
   "metadata": {},
   "outputs": [
    {
     "name": "stdout",
     "output_type": "stream",
     "text": [
      "m= 9.891800000000002, b= 0.1398, cf= 5199.1, iteration= 1\n",
      "m= -73.89063968000005, b= -1.0422240800000002, cf= 370727.6662565042, iteration= 2\n",
      "m= 635.7369779473285, b= 8.971449829408007, cf= 26593365.21283422, iteration= 3\n",
      "m= -5374.727514955187, b= -75.84115332401389, cf= 1907777992.8722565, iteration= 4\n",
      "m= 45533.21677472461, b= 642.5139249806472, cf= 136861998255.80414, iteration= 5\n",
      "m= -385651.2277087454, b= -5441.869063972523, cf= 9818336798225.717, iteration= 6\n",
      "m= 3266431.5217446033, b= 46092.15849604381, cf= 704357226503460.2, iteration= 7\n",
      "m= -27666290.14670837, b= -390395.13732602727, cf= 5.052985171774353e+16, iteration= 8\n",
      "m= 234330311.64447328, b= 3306602.156348863, cf= 3.6249587830483005e+18, iteration= 9\n",
      "m= -1984750831.161688, b= -28006540.543865472, cf= 2.6005075677245276e+20, iteration= 10\n",
      "m= 16810611721.985636, b= 237212183.72022378, cf= 1.8655769663967592e+22, iteration= 11\n",
      "m= -142383951599.6276, b= -2009159966.5646977, cf= 1.3383454294637962e+24, iteration= 12\n",
      "m= 1205975725927.0713, b= 17017354287.21848, cf= 9.601150318800083e+25, iteration= 13\n",
      "m= -10214475965673.32, b= -144135037405.07288, cf= 6.88776495326228e+27, iteration= 14\n",
      "m= 86515438918328.9, b= 1220807221683.833, cf= 4.941210633739686e+29, iteration= 15\n",
      "m= -732775836605216.4, b= -10340097032248.14, cf= 3.5447728969639302e+31, iteration= 16\n",
      "m= 6206527221336492.0, b= 87579434932273.39, cf= 2.5429830506011214e+33, iteration= 17\n",
      "m= -5.256857312278437e+16, b= -741787760708146.4, cf= 1.824309478664577e+35, iteration= 18\n",
      "m= 4.4524978004856864e+17, b= 6282857184017264.0, cf= 1.308740564809784e+37, iteration= 19\n",
      "m= -3.771214527171064e+18, b= -5.3215079144839544e+16, cf= 9.3887681120444e+38, iteration= 20\n",
      "m= 3.194175415065832e+19, b= 4.507256118435043e+17, cf= 6.73540417649953e+40, iteration= 21\n",
      "m= -2.70542991089517e+20, b= -3.817594193908135e+18, cf= 4.8319086039210916e+42, iteration= 22\n",
      "m= 2.2914680791303368e+21, b= 3.2334584604039156e+19, cf= 3.466360762448049e+44, iteration= 23\n",
      "m= -1.9408471594578794e+22, b= -2.73870219936982e+20, cf= 2.486731004325852e+46, iteration= 24\n",
      "m= 1.6438752652427682e+23, b= 2.319649325538619e+21, cf= 1.7839548482276986e+48, iteration= 25\n",
      "m= -1.3923434797574683e+24, b= -1.9647163516755844e+22, cf= 1.2797905744444916e+50, iteration= 26\n",
      "m= 1.179298944763208e+25, b= 1.6640921970587552e+23, cf= 9.181083905033403e+51, iteration= 27\n",
      "m= -9.98852669143012e+25, b= -1.4094669889371823e+24, cf= 6.58641369568231e+53, iteration= 28\n",
      "m= 8.460167450200246e+26, b= 1.1938023604791333e+25, cf= 4.725024389210582e+55, iteration= 29\n",
      "m= -7.165664716783168e+27, b= -1.0111368957709355e+26, cf= 3.38968314323627e+57, iteration= 30\n",
      "m= 6.069235761064736e+28, b= 8.564213439642921e+26, cf= 2.4317232812124712e+59, iteration= 31\n",
      "m= -5.140573021385156e+29, b= -7.253790475506124e+27, cf= 1.744492882230017e+61, iteration= 32\n",
      "m= 4.354006340916478e+30, b= 6.143877267115057e+28, cf= 1.2514809722238673e+63, iteration= 33\n",
      "m= -3.6877933914909612e+31, b= -5.203793520206333e+29, cf= 8.977993775682753e+64, iteration= 34\n",
      "m= 3.1235186707288454e+32, b= 4.4075533777153323e+30, cf= 6.440718958192806e+66, iteration= 35\n",
      "m= -2.645584459504449e+33, b= -3.733147116997748e+31, cf= 4.620504506338839e+68, iteration= 36\n",
      "m= 2.2407796687631987e+34, b= 3.161932755621568e+32, cf= 3.31470167098982e+70, iteration= 37\n",
      "m= -1.897914657724828e+35, b= -2.6781207484566015e+33, cf= 2.3779323562155134e+72, iteration= 38\n",
      "m= 1.6075119290933782e+36, b= 2.268337532024402e+34, cf= 1.7059038344914237e+74, iteration= 39\n",
      "m= -1.3615441514505511e+37, b= -1.9212558515727185e+35, cf= 1.2237975924445502e+76, iteration= 40\n",
      "m= 1.153212267230097e+38, b= 1.627281652350979e+36, cf= 8.779396100716171e+77, iteration= 41\n",
      "m= -9.767575527192004e+38, b= -1.378288880114782e+37, cf= 6.298247060554071e+79, iteration= 42\n",
      "m= 8.273024350370022e+39, b= 1.1673948601973964e+38, cf= 4.518296655112998e+81, iteration= 43\n",
      "m= -7.00715665942656e+40, b= -9.88770046161735e+38, cf= 3.2413788260966296e+83, iteration= 44\n",
      "m= 5.934981255984084e+41, b= 8.374768790924474e+39, cf= 2.325331313157173e+85, iteration= 45\n",
      "m= -5.026860996677788e+42, b= -7.093333032660473e+40, cf= 1.668168395627098e+87, iteration= 46\n",
      "m= 4.2576935612799155e+43, b= 6.00797165490201e+41, cf= 1.196726582755561e+89, iteration= 47\n",
      "m= -3.606217572704928e+44, b= -5.088683026710746e+42, cf= 8.585191504814646e+90, iteration= 48\n",
      "m= 3.054424888618902e+45, b= 4.3100561110680525e+43, cf= 6.158926711950239e+92, iteration= 49\n",
      "m= -2.5870628191789245e+46, b= -3.650568051310261e+44, cf= 4.418349692246398e+94, iteration= 50\n",
      "m= 2.1912125111723684e+47, b= 3.0919892349022796e+45, cf= 3.169677918897043e+96, iteration= 51\n",
      "m= -1.8559318442225447e+48, b= -2.6188793892830366e+46, cf= 2.2738938312588415e+98, iteration= 52\n",
      "m= 1.571952967974059e+49, b= 2.2181607808308733e+47, cf= 1.6312676833853937e+100, iteration= 53\n",
      "m= -1.3314261195607527e+50, b= -1.878756719286422e+48, cf= 1.1702543972267976e+102, iteration= 54\n",
      "m= 1.127702639941742e+51, b= 1.5912853751483807e+49, cf= 8.395282810890497e+103, iteration= 55\n",
      "m= -9.551511912287871e+51, b= -1.347800446522359e+50, cf= 6.022688198553643e+105, iteration= 56\n",
      "m= 8.090020948721924e+52, b= 1.1415715069187284e+51, cf= 4.320613605767243e+107, iteration= 57\n",
      "m= -6.852154878910969e+53, b= -9.6689796235876e+51, cf= 3.0995630713248762e+109, iteration= 58\n",
      "m= 5.8036965271395205e+54, b= 8.189514751791012e+52, cf= 2.2235941719705942e+111, iteration= 59\n",
      "m= -4.915664338352587e+55, b= -6.936424988029658e+53, cf= 1.595183233199437e+113, iteration= 60\n",
      "m= 4.1635112680953706e+56, b= 5.875072342233698e+54, cf= 1.1443677895708487e+115, iteration= 61\n",
      "m= -3.526446251488082e+57, b= -4.976118834420492e+55, cf= 8.209574991461432e+116, iteration= 62\n",
      "m= 2.9868594952363866e+58, b= 4.214715532312912e+56, cf= 5.8894633486410615e+118, iteration= 63\n",
      "m= -2.5298357065612897e+59, b= -3.569815675510983e+57, cf= 4.225039489993353e+120, iteration= 64\n",
      "m= 2.1427418036903485e+60, b= 3.023592899549887e+58, cf= 3.0309991989545606e+122, iteration= 65\n",
      "m= -1.814877711376367e+61, b= -2.560948478355227e+59, cf= 2.174407166091987e+124, iteration= 66\n",
      "m= 1.5371805887102158e+62, b= 2.169093964258975e+60, cf= 1.5598969889477255e+126, iteration= 67\n",
      "m= -1.301974313473436e+63, b= -1.837197688883803e+61, cf= 1.1190538065147464e+128, iteration= 68\n",
      "m= 1.1027572982605405e+64, b= 1.556085353449907e+62, cf= 8.027975121100187e+129, iteration= 69\n",
      "m= -9.340227731702466e+64, b= -1.3179864322017813e+63, cf= 5.759185498481596e+131, iteration= 70\n",
      "m= 7.911065673079069e+65, b= 1.1163193790217116e+64, cf= 4.1315795210604973e+133, iteration= 71\n",
      "m= -6.70058181465373e+66, b= -9.455096998969969e+64, cf= 2.963951993445421e+135, iteration= 72\n",
      "m= 5.675315881607841e+67, b= 8.008358623880182e+65, cf= 2.1263082011777784e+137, iteration= 73\n",
      "m= -4.806927405257671e+68, b= -6.782987827164836e+66, cf= 1.5253912939191238e+139, iteration= 74\n",
      "m= 4.071412333945906e+69, b= 5.745112828273199e+67, cf= 1.0942997813183508e+141, iteration= 75\n",
      "m= -3.4484395114592517e+70, b= -4.866044617890066e+68, cf= 7.850392329936044e+142, iteration= 76\n",
      "m= 2.920788681864644e+71, b= 4.1214839344441324e+69, cf= 5.631789458979142e+144, iteration= 77\n",
      "m= -2.4738744860566226e+72, b= -3.49084958231364e+70, cf= 4.040186932992041e+146, iteration= 78\n",
      "m= 2.0953432922969455e+73, b= 2.956709525056746e+71, cf= 2.8983879053743045e+148, iteration= 79\n",
      "m= -1.7747317163096014e+74, b= -2.504299027908056e+72, cf= 2.0792732092222225e+150, iteration= 80\n",
      "m= 1.5031773917210986e+75, b= 2.121112530004404e+73, cf= 1.4916488819777036e+152, iteration= 81\n",
      "m= -1.273173995943435e+76, b= -1.7965579648449482e+74, cf= 1.0700933274360932e+154, iteration= 82\n",
      "m= 1.0783637599090045e+77, b= 1.5216639736889034e+75, cf= 7.676737758184881e+155, iteration= 83\n",
      "m= -9.133617261978298e+77, b= -1.2888319186642775e+76, cf= 5.507211483052723e+157, iteration= 84\n",
      "m= 7.736068976886559e+78, b= 1.0916258407176056e+77, cf= 3.950815994297939e+159, iteration= 85\n",
      "m= -6.552361621750738e+79, b= -9.245945564084275e+77, cf= 2.8342741274479203e+161, iteration= 86\n",
      "m= 5.549775079625887e+80, b= 7.831209759363375e+78, cf= 2.0332786546157922e+163, iteration= 87\n",
      "m= -4.700595787051052e+81, b= -6.632944772395721e+79, cf= 1.4586528689230229e+165, iteration= 88\n",
      "m= 3.9813506738964224e+82, b= 5.618028083215113e+80, cf= 1.0464223323189359e+167, iteration= 89\n",
      "m= -3.3721583192074084e+83, b= -4.758405297620753e+81, cf= 7.506924511685083e+168, iteration= 90\n",
      "m= 2.8561793876525963e+84, b= 4.030314665758547e+82, cf= 5.385389233738411e+170, iteration= 91\n",
      "m= -2.419151155503564e+85, b= -3.4136302582611655e+83, cf= 3.863421985091391e+172, iteration= 92\n",
      "m= 2.0489932594829217e+86, b= 2.8913056439782975e+84, cf= 2.7715785780865825e+174, iteration= 93\n",
      "m= -1.735473770564174e+87, b= -2.4489026914001495e+85, cf= 1.9883015223683182e+176, iteration= 94\n",
      "m= 1.4699263623133136e+88, b= 2.074192468872002e+86, cf= 1.4263867440415296e+178, iteration= 95\n",
      "m= -1.2450107557207557e+89, b= -1.7568172116571609e+87, cf= 1.0232749513534321e+180, iteration= 96\n",
      "m= 1.054509818723813e+90, b= 1.4880040119195451e+88, cf= 7.340867618416979e+181, iteration= 97\n",
      "m= -8.931577118313173e+90, b= -1.2603223174254442e+89, cf= 5.266261752996851e+183, iteration= 98\n",
      "m= 7.564943294403676e+91, b= 1.067478535727581e+90, cf= 3.7779611747116694e+185, iteration= 99\n",
      "m= -6.407420133024764e+92, b= -9.041420662667186e+90, cf= 2.7102698853710618e+187, iteration= 100\n",
      "m= 5.427011302445904e+93, b= 7.657979515586899e+91, cf= 1.9443193065926286e+189, iteration= 101\n",
      "m= -4.5966162769744745e+94, b= -6.486220744412156e+92, cf= 1.3948343618448442e+191, iteration= 102\n",
      "m= 3.893281222433439e+95, b= 5.493754515745566e+93, cf= 1.000639601934861e+193, iteration= 103\n",
      "m= -3.29756450475994e+96, b= -4.6531470124996684e+94, cf= 7.178483985984102e+194, iteration= 104\n",
      "m= 2.7929992830715875e+97, b= 3.9411621065118125e+95, cf= 5.1497694312107305e+196, iteration= 105\n",
      "m= -2.3656383321624506e+98, b= -3.3381190639537626e+96, cf= 3.6943907998419584e+198, iteration= 106\n",
      "m= 2.0036685123821077e+99, b= 2.8273485291864483e+97, cf= 2.6503173713445427e+200, iteration= 107\n",
      "m= -1.6970842300486683e+100, b= -2.3947317493296888e+98, cf= 1.9013099992429421e+202, iteration= 108\n",
      "m= 1.4374108621669228e+101, b= 2.028310302761918e+99, cf= 1.3639799339907985e+204, iteration= 109\n",
      "m= -1.217470500339399e+102, b= -1.7179555436393693e+100, cf= 9.785049576714621e+205, iteration= 110\n",
      "m= 1.0311835385480336e+103, b= 1.4550886251982284e+101, cf= 7.019692360035035e+207, iteration= 111\n",
      "m= -8.734006202828014e+103, b= -1.23244336270539e+102, cf= 5.0358539773570514e+209, iteration= 112\n",
      "m= 7.397602996887337e+104, b= 1.043865381099825e+103, cf= 3.612669043111207e+211, iteration= 113\n",
      "m= -6.265684821913348e+105, b= -8.84141995350386e+103, cf= 2.591691036661821e+213, iteration= 114\n",
      "m= 5.306963120902011e+106, b= 7.488581210716548e+104, cf= 1.8592520791023535e+215, iteration= 115\n",
      "m= -4.494936845229576e+107, b= -6.342742324695573e+105, cf= 1.3338080213831797e+217, iteration= 116\n",
      "m= 3.8071599109149835e+108, b= 5.372229941222095e+106, cf= 9.568599427168775e+218, iteration= 117\n",
      "m= -3.224620742482956e+109, b= -4.5502170928484535e+107, cf= 6.864413283604887e+220, iteration= 118\n",
      "m= 2.7312167537381716e+110, b= 3.853981646090953e+108, cf= 4.924458389839141e+222, iteration= 119\n",
      "m= -2.3133092390134018e+111, b= -3.2642782147143204e+109, cf= 3.5327550121693588e+224, iteration= 120\n",
      "m= 1.959346371166035e+112, b= 2.7648061774934157e+110, cf= 2.534361545578093e+226, iteration= 121\n",
      "m= -1.6595438852087117e+113, b= -2.3417590953639804e+111, cf= 1.8181245010139606e+228, iteration= 122\n",
      "m= 1.4056146210098777e+114, b= 1.9834430729215145e+112, cf= 1.3043035264462443e+230, iteration= 123\n",
      "m= -1.1905394490657067e+115, b= -1.6799535149916294e+113, cf= 9.356937262279628e+231, iteration= 124\n",
      "m= 1.0083732472584435e+116, b= 1.42290134315562e+114, cf= 6.7125690573562495e+233, iteration= 125\n",
      "m= -8.540805653978956e+116, b= -1.2051811042903498e+115, cf= 4.815526927963924e+235, iteration= 126\n",
      "m= 7.233964349744711e+117, b= 1.0207745611634117e+116, cf= 3.454608719225421e+237, iteration= 127\n",
      "m= -6.127084766177536e+118, b= -8.645843359217853e+116, cf= 2.4783002112697787e+239, iteration= 128\n",
      "m= 5.189570464671929e+119, b= 7.322930080363246e+117, cf= 1.7779066853501594e+241, iteration= 129\n",
      "m= -4.395506612942926e+120, b= -6.202437718781446e+118, cf= 1.2754516855701074e+243, iteration= 130\n",
      "m= 3.7229436455192992e+121, b= 5.2533935505573606e+119, cf= 9.149957169451969e+244, iteration= 131\n",
      "m= -3.153290532404097e+122, b= -4.4495640340681584e+120, cf= 6.5640837006995804e+246, iteration= 132\n",
      "m= 2.6708008845947414e+123, b= 3.768729660691872e+121, cf= 4.70900508405009e+248, iteration= 133\n",
      "m= -2.2621376913574953e+124, b= -3.1920707616815266e+122, cf= 3.378191061038161e+250, iteration= 134\n",
      "m= 1.916004657695288e+125, b= 2.703647293637797e+123, cf= 2.423478981480058e+252, iteration= 135\n",
      "m= -1.6228339514147998e+126, b= -2.289958222775853e+124, cf= 1.7385785077149243e+254, iteration= 136\n",
      "m= 1.3745217284766152e+127, b= 1.9395683284571426e+125, cf= 1.2472380617232613e+256, iteration= 137\n",
      "m= -1.1642041260026798e+128, b= -1.642792110064735e+126, cf= 8.947555578929722e+257, iteration= 138\n",
      "m= 9.860675309249742e+128, b= 1.3914260597551198e+127, cf= 6.418882913773676e+259, iteration= 139\n",
      "m= -8.351878797088514e+129, b= -1.178521900552205e+128, cf= 4.604839556153295e+261, iteration= 140\n",
      "m= 7.073945470633691e+130, b= 9.981945216159155e+128, cf= 3.303463799349449e+263, iteration= 141\n",
      "m= -5.991550612413491e+131, b= -8.45459301619393e+129, cf= 2.3698704244819527e+265, iteration= 142\n",
      "m= 5.0747745922187064e+132, b= 7.160943235168271e+130, cf= 1.700120288873845e+267, iteration= 143\n",
      "m= -4.298275826707021e+133, b= -6.065236720334401e+131, cf= 1.2196485372284946e+269, iteration= 144\n",
      "m= 3.640590285681342e+134, b= 5.137185879791207e+132, cf= 8.749631211971189e+270, iteration= 145\n",
      "m= -3.083538181948501e+135, b= -4.3511374708671104e+133, cf= 6.276894040267113e+272, iteration= 146\n",
      "m= 2.6117214444400984e+136, b= 3.68536349149066e+134, cf= 4.502978221394611e+274, iteration= 147\n",
      "m= -2.212098083714339e+137, b= -3.121460573321204e+135, cf= 3.230389541750381e+276, iteration= 148\n",
      "m= 1.8736216844218978e+138, b= 2.6438412746249006e+136, cf= 2.317447715351885e+278, iteration= 149\n",
      "m= -1.586936059562753e+139, b= -2.23930321118009e+137, cf= 1.6625127849069372e+280, iteration= 150\n",
      "m= 1.3441166261467531e+140, b= 1.8966641151000655e+138, cf= 1.1926693066986145e+282, iteration= 151\n",
      "m= -1.1384513533468479e+141, b= -1.6064527338450758e+139, cf= 8.556085030170636e+283, iteration= 152\n",
      "m= 9.642552280993527e+141, b= 1.3606470252336506e+140, cf= 6.13804603106209e+285, iteration= 153\n",
      "m= -8.167131095971032e+142, b= -1.152452411622417e+141, cf= 4.403370109879062e+287, iteration= 154\n",
      "m= 6.917466288490198e+143, b= 9.761139637418127e+141, cf= 3.158931722970684e+289, iteration= 155\n",
      "m= -5.8590145413490594e+144, b= -8.267573225608575e+142, cf= 2.2661846225468903e+291, iteration= 156\n",
      "m= 4.9625180613973254e+145, b= 7.002539619326608e+143, cf= 1.625737177579273e+293, iteration= 157\n",
      "m= -4.203195833684398e+146, b= -5.931070676018033e+144, cf= 1.1662868701284434e+295, iteration= 158\n",
      "m= 3.560058623006265e+147, b= 5.023548780335756e+145, cf= 8.366820185901017e+296, iteration= 159\n",
      "m= -3.015328788078759e+148, b= -4.254888152058861e+146, cf= 6.0022694086825505e+298, iteration= 160\n",
      "m= 2.5539488708022084e+149, b= 3.603841423297749e+147, cf= 4.305965379191022e+300, iteration= 161\n",
      "m= -2.1631653770094626e+150, b= -3.0524123173466356e+148, cf= 3.089054586582002e+302, iteration= 162\n",
      "m= 1.8321762435372103e+151, b= 2.585358194413448e+149, cf= 2.2160554947787444e+304, iteration= 163\n",
      "m= -1.5518322468820834e+152, b= -2.1897687135632508e+150, cf= 1.589775064924609e+306, iteration= 164\n",
      "m= 1.3143840997598804e+153, b= 1.854708964220851e+151, cf= inf, iteration= 165\n"
     ]
    }
   ],
   "source": [
    "grad_des(x,y)"
   ]
  },
  {
   "cell_type": "code",
   "execution_count": 76,
   "id": "e763bac5",
   "metadata": {},
   "outputs": [
    {
     "data": {
      "text/plain": [
       "(1.3143840997598804e+153, 1.854708964220851e+151)"
      ]
     },
     "execution_count": 76,
     "metadata": {},
     "output_type": "execute_result"
    }
   ],
   "source": [
    "m,b"
   ]
  },
  {
   "cell_type": "code",
   "execution_count": 39,
   "id": "01e9f38c",
   "metadata": {},
   "outputs": [
    {
     "data": {
      "text/plain": [
       "array([[1.01773624]])"
      ]
     },
     "execution_count": 39,
     "metadata": {},
     "output_type": "execute_result"
    }
   ],
   "source": [
    "model.coef_"
   ]
  },
  {
   "cell_type": "code",
   "execution_count": 40,
   "id": "61470a13",
   "metadata": {},
   "outputs": [
    {
     "data": {
      "text/plain": [
       "array([1.91521931])"
      ]
     },
     "execution_count": 40,
     "metadata": {},
     "output_type": "execute_result"
    }
   ],
   "source": [
    "model.intercept_"
   ]
  },
  {
   "cell_type": "code",
   "execution_count": null,
   "id": "507918b1",
   "metadata": {},
   "outputs": [],
   "source": []
  }
 ],
 "metadata": {
  "kernelspec": {
   "display_name": "Python 3 (ipykernel)",
   "language": "python",
   "name": "python3"
  },
  "language_info": {
   "codemirror_mode": {
    "name": "ipython",
    "version": 3
   },
   "file_extension": ".py",
   "mimetype": "text/x-python",
   "name": "python",
   "nbconvert_exporter": "python",
   "pygments_lexer": "ipython3",
   "version": "3.9.12"
  }
 },
 "nbformat": 4,
 "nbformat_minor": 5
}
